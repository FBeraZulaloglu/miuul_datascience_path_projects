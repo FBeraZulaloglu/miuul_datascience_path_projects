{
 "cells": [
  {
   "attachments": {},
   "cell_type": "markdown",
   "metadata": {},
   "source": [
    "# Problem\n",
    "Facebook has changed the method to bid from maximum bidding to average bidding. And our company wants to know if there is really a difference between them to understand if average bidding really is more beneficial.\n",
    "<br />\n",
    "**Note!!!**\n",
    "<br />\n",
    "**Success criteria**: \"purchase\" values so you have to focus on just purchase value."
   ]
  },
  {
   "attachments": {},
   "cell_type": "markdown",
   "metadata": {},
   "source": [
    "There are two groups in the excel sheet\n",
    "1. Control Group - Applied Maximum Bidding\n",
    "2. Test Group - Applied Average Bidding"
   ]
  },
  {
   "attachments": {},
   "cell_type": "markdown",
   "metadata": {},
   "source": [
    "### **Question: Are there any difference in purchasing for two groups?**  "
   ]
  },
  {
   "cell_type": "code",
   "execution_count": 90,
   "metadata": {},
   "outputs": [],
   "source": [
    "import numpy as np\n",
    "import pandas as pd\n",
    "import matplotlib.pyplot as plt\n",
    "import seaborn as sns\n",
    "import statsmodels.stats.api as sms\n",
    "from scipy.stats import ttest_1samp, shapiro, levene, ttest_ind, mannwhitneyu, \\\n",
    "    pearsonr, spearmanr, kendalltau, f_oneway, kruskal\n",
    "from statsmodels.stats.proportion import proportions_ztest"
   ]
  },
  {
   "cell_type": "code",
   "execution_count": 91,
   "metadata": {},
   "outputs": [],
   "source": [
    "pd.set_option('display.max_columns', None)\n",
    "pd.set_option('display.max_rows', 20)\n",
    "pd.set_option('display.float_format', lambda x: '%.5f' % x)"
   ]
  },
  {
   "attachments": {},
   "cell_type": "markdown",
   "metadata": {},
   "source": [
    "# Task 1: Prepare and Analyze Data"
   ]
  },
  {
   "cell_type": "code",
   "execution_count": 92,
   "metadata": {},
   "outputs": [],
   "source": [
    "xls = pd.ExcelFile('ab_testing.xlsx')\n",
    "control_df = pd.read_excel(xls, 'Control Group')\n",
    "test_df = pd.read_excel(xls, 'Test Group')"
   ]
  },
  {
   "attachments": {},
   "cell_type": "markdown",
   "metadata": {},
   "source": [
    "## Step 1: Analyze Control and Test Groups"
   ]
  },
  {
   "cell_type": "code",
   "execution_count": 93,
   "metadata": {},
   "outputs": [
    {
     "data": {
      "text/html": [
       "<div>\n",
       "<style scoped>\n",
       "    .dataframe tbody tr th:only-of-type {\n",
       "        vertical-align: middle;\n",
       "    }\n",
       "\n",
       "    .dataframe tbody tr th {\n",
       "        vertical-align: top;\n",
       "    }\n",
       "\n",
       "    .dataframe thead th {\n",
       "        text-align: right;\n",
       "    }\n",
       "</style>\n",
       "<table border=\"1\" class=\"dataframe\">\n",
       "  <thead>\n",
       "    <tr style=\"text-align: right;\">\n",
       "      <th></th>\n",
       "      <th>Impression</th>\n",
       "      <th>Click</th>\n",
       "      <th>Purchase</th>\n",
       "      <th>Earning</th>\n",
       "    </tr>\n",
       "  </thead>\n",
       "  <tbody>\n",
       "    <tr>\n",
       "      <th>0</th>\n",
       "      <td>82529.45927</td>\n",
       "      <td>6090.07732</td>\n",
       "      <td>665.21125</td>\n",
       "      <td>2311.27714</td>\n",
       "    </tr>\n",
       "    <tr>\n",
       "      <th>1</th>\n",
       "      <td>98050.45193</td>\n",
       "      <td>3382.86179</td>\n",
       "      <td>315.08489</td>\n",
       "      <td>1742.80686</td>\n",
       "    </tr>\n",
       "    <tr>\n",
       "      <th>2</th>\n",
       "      <td>82696.02355</td>\n",
       "      <td>4167.96575</td>\n",
       "      <td>458.08374</td>\n",
       "      <td>1797.82745</td>\n",
       "    </tr>\n",
       "    <tr>\n",
       "      <th>3</th>\n",
       "      <td>109914.40040</td>\n",
       "      <td>4910.88224</td>\n",
       "      <td>487.09077</td>\n",
       "      <td>1696.22918</td>\n",
       "    </tr>\n",
       "    <tr>\n",
       "      <th>4</th>\n",
       "      <td>108457.76263</td>\n",
       "      <td>5987.65581</td>\n",
       "      <td>441.03405</td>\n",
       "      <td>1543.72018</td>\n",
       "    </tr>\n",
       "  </tbody>\n",
       "</table>\n",
       "</div>"
      ],
      "text/plain": [
       "    Impression      Click  Purchase    Earning\n",
       "0  82529.45927 6090.07732 665.21125 2311.27714\n",
       "1  98050.45193 3382.86179 315.08489 1742.80686\n",
       "2  82696.02355 4167.96575 458.08374 1797.82745\n",
       "3 109914.40040 4910.88224 487.09077 1696.22918\n",
       "4 108457.76263 5987.65581 441.03405 1543.72018"
      ]
     },
     "execution_count": 93,
     "metadata": {},
     "output_type": "execute_result"
    }
   ],
   "source": [
    "control_df.head()"
   ]
  },
  {
   "cell_type": "code",
   "execution_count": 94,
   "metadata": {},
   "outputs": [
    {
     "data": {
      "text/html": [
       "<div>\n",
       "<style scoped>\n",
       "    .dataframe tbody tr th:only-of-type {\n",
       "        vertical-align: middle;\n",
       "    }\n",
       "\n",
       "    .dataframe tbody tr th {\n",
       "        vertical-align: top;\n",
       "    }\n",
       "\n",
       "    .dataframe thead th {\n",
       "        text-align: right;\n",
       "    }\n",
       "</style>\n",
       "<table border=\"1\" class=\"dataframe\">\n",
       "  <thead>\n",
       "    <tr style=\"text-align: right;\">\n",
       "      <th></th>\n",
       "      <th>Impression</th>\n",
       "      <th>Click</th>\n",
       "      <th>Purchase</th>\n",
       "      <th>Earning</th>\n",
       "    </tr>\n",
       "  </thead>\n",
       "  <tbody>\n",
       "    <tr>\n",
       "      <th>0</th>\n",
       "      <td>120103.50380</td>\n",
       "      <td>3216.54796</td>\n",
       "      <td>702.16035</td>\n",
       "      <td>1940.00000</td>\n",
       "    </tr>\n",
       "    <tr>\n",
       "      <th>1</th>\n",
       "      <td>134775.94336</td>\n",
       "      <td>3635.08242</td>\n",
       "      <td>834.05429</td>\n",
       "      <td>2929.00000</td>\n",
       "    </tr>\n",
       "    <tr>\n",
       "      <th>2</th>\n",
       "      <td>107806.62079</td>\n",
       "      <td>3057.14356</td>\n",
       "      <td>422.93426</td>\n",
       "      <td>2526.00000</td>\n",
       "    </tr>\n",
       "    <tr>\n",
       "      <th>3</th>\n",
       "      <td>116445.27553</td>\n",
       "      <td>4650.47391</td>\n",
       "      <td>429.03353</td>\n",
       "      <td>2281.00000</td>\n",
       "    </tr>\n",
       "    <tr>\n",
       "      <th>4</th>\n",
       "      <td>145082.51684</td>\n",
       "      <td>5201.38772</td>\n",
       "      <td>749.86044</td>\n",
       "      <td>2781.69752</td>\n",
       "    </tr>\n",
       "  </tbody>\n",
       "</table>\n",
       "</div>"
      ],
      "text/plain": [
       "    Impression      Click  Purchase    Earning\n",
       "0 120103.50380 3216.54796 702.16035 1940.00000\n",
       "1 134775.94336 3635.08242 834.05429 2929.00000\n",
       "2 107806.62079 3057.14356 422.93426 2526.00000\n",
       "3 116445.27553 4650.47391 429.03353 2281.00000\n",
       "4 145082.51684 5201.38772 749.86044 2781.69752"
      ]
     },
     "execution_count": 94,
     "metadata": {},
     "output_type": "execute_result"
    }
   ],
   "source": [
    "test_df.head()"
   ]
  },
  {
   "cell_type": "code",
   "execution_count": 95,
   "metadata": {},
   "outputs": [],
   "source": [
    "def check_df(dataframe, count=5):\n",
    "    print(\"--------------------- Shape ---------------------\")\n",
    "    print(dataframe.shape)\n",
    "    print(\"--------------------- Types ---------------------\")\n",
    "    print(dataframe.dtypes)\n",
    "    print(\"--------------------- Head ---------------------\")\n",
    "    print(dataframe.head(count))\n",
    "    print(\"--------------------- Tail ---------------------\")\n",
    "    print(dataframe.tail(count))\n",
    "    print(\"--------------------- NA ---------------------\")\n",
    "    print(dataframe.isnull().sum())\n",
    "    print(\"-------------------- Quantiles ---------------------\")\n",
    "    print(dataframe.describe([0, 0.05, 0.50, 0.95, 0.99, 1]).T)"
   ]
  },
  {
   "cell_type": "code",
   "execution_count": 96,
   "metadata": {},
   "outputs": [],
   "source": [
    "df = control_df.copy()\n",
    "df[\"type\"] = \"control\"\n",
    "df1 = test_df.copy()\n",
    "df1[\"type\"] = \"test\""
   ]
  },
  {
   "cell_type": "code",
   "execution_count": 97,
   "metadata": {},
   "outputs": [
    {
     "name": "stdout",
     "output_type": "stream",
     "text": [
      "--------------------- Shape ---------------------\n",
      "(40, 5)\n",
      "--------------------- Types ---------------------\n",
      "Impression    float64\n",
      "Click         float64\n",
      "Purchase      float64\n",
      "Earning       float64\n",
      "type           object\n",
      "dtype: object\n",
      "--------------------- Head ---------------------\n",
      "    Impression      Click  Purchase    Earning     type\n",
      "0  82529.45927 6090.07732 665.21125 2311.27714  control\n",
      "1  98050.45193 3382.86179 315.08489 1742.80686  control\n",
      "2  82696.02355 4167.96575 458.08374 1797.82745  control\n",
      "3 109914.40040 4910.88224 487.09077 1696.22918  control\n",
      "4 108457.76263 5987.65581 441.03405 1543.72018  control\n",
      "--------------------- Tail ---------------------\n",
      "     Impression      Click  Purchase    Earning     type\n",
      "35 132064.21900 3747.15754 551.07241 2256.97559  control\n",
      "36  86409.94180 4608.25621 345.04603 1781.35769  control\n",
      "37 123679.00000 3649.07379 476.16813 2187.72122  control\n",
      "38 101997.49410 4736.35337 474.61354 2254.56383  control\n",
      "39 121085.88122 4285.17861 590.40602 1289.30895  control\n",
      "--------------------- NA ---------------------\n",
      "Impression    0\n",
      "Click         0\n",
      "Purchase      0\n",
      "Earning       0\n",
      "type          0\n",
      "dtype: int64\n",
      "-------------------- Quantiles ---------------------\n",
      "              count         mean         std         min          0%  \\\n",
      "Impression 40.00000 101711.45071 20302.15969 45475.94296 45475.94296   \n",
      "Click      40.00000   5100.65737  1329.98550  2189.75316  2189.75316   \n",
      "Purchase   40.00000    550.89406   134.10820   267.02894   267.02894   \n",
      "Earning    40.00000   1908.56830   302.91778  1253.98952  1253.98952   \n",
      "\n",
      "                    5%         50%          95%          99%         100%  \\\n",
      "Impression 79412.01792 99790.70108 132950.53245 143105.79110 147539.33633   \n",
      "Click       3367.48426  5001.22060   7374.36120   7761.79511   7959.12507   \n",
      "Purchase     328.66242   531.20631    748.27076    790.18779    801.79502   \n",
      "Earning     1329.57708  1975.16052   2318.52850   2481.30874   2497.29522   \n",
      "\n",
      "                    max  \n",
      "Impression 147539.33633  \n",
      "Click        7959.12507  \n",
      "Purchase      801.79502  \n",
      "Earning      2497.29522  \n"
     ]
    }
   ],
   "source": [
    "check_df(df)"
   ]
  },
  {
   "cell_type": "code",
   "execution_count": 98,
   "metadata": {},
   "outputs": [
    {
     "name": "stdout",
     "output_type": "stream",
     "text": [
      "--------------------- Shape ---------------------\n",
      "(40, 5)\n",
      "--------------------- Types ---------------------\n",
      "Impression    float64\n",
      "Click         float64\n",
      "Purchase      float64\n",
      "Earning       float64\n",
      "type           object\n",
      "dtype: object\n",
      "--------------------- Head ---------------------\n",
      "    Impression      Click  Purchase    Earning  type\n",
      "0 120103.50380 3216.54796 702.16035 1940.00000  test\n",
      "1 134775.94336 3635.08242 834.05429 2929.00000  test\n",
      "2 107806.62079 3057.14356 422.93426 2526.00000  test\n",
      "3 116445.27553 4650.47391 429.03353 2281.00000  test\n",
      "4 145082.51684 5201.38772 749.86044 2781.69752  test\n",
      "--------------------- Tail ---------------------\n",
      "     Impression      Click  Purchase    Earning  type\n",
      "35  79234.91193 6002.21358 382.04712 2277.86398  test\n",
      "36 130702.23941 3626.32007 449.82459 2530.84133  test\n",
      "37 116481.87337 4702.78247 472.45373 2597.91763  test\n",
      "38  79033.83492 4495.42818 425.35910 2595.85788  test\n",
      "39 102257.45409 4800.06832 521.31073 2967.51839  test\n",
      "--------------------- NA ---------------------\n",
      "Impression    0\n",
      "Click         0\n",
      "Purchase      0\n",
      "Earning       0\n",
      "type          0\n",
      "dtype: int64\n",
      "-------------------- Quantiles ---------------------\n",
      "              count         mean         std         min          0%  \\\n",
      "Impression 40.00000 120512.41176 18807.44871 79033.83492 79033.83492   \n",
      "Click      40.00000   3967.54976   923.09507  1836.62986  1836.62986   \n",
      "Purchase   40.00000    582.10610   161.15251   311.62952   311.62952   \n",
      "Earning    40.00000   2514.88359   282.69061  1940.00000  1940.00000   \n",
      "\n",
      "                    5%          50%          95%          99%         100%  \\\n",
      "Impression 83150.50378 119291.30077 153178.69106 158245.26380 158605.92048   \n",
      "Click       2600.36102   3931.35980   5271.18691   6012.87730   6019.69508   \n",
      "Purchase     356.69540    551.35573    854.20895    876.57610    889.91046   \n",
      "Earning     2080.98736   2544.66611   2930.92592   3091.64217   3171.00000   \n",
      "\n",
      "                    max  \n",
      "Impression 158605.92048  \n",
      "Click        6019.69508  \n",
      "Purchase      889.91046  \n",
      "Earning      3171.00000  \n"
     ]
    }
   ],
   "source": [
    "check_df(df1)"
   ]
  },
  {
   "attachments": {},
   "cell_type": "markdown",
   "metadata": {},
   "source": [
    "## Step 2: Concat Control and Test Groups"
   ]
  },
  {
   "cell_type": "code",
   "execution_count": 99,
   "metadata": {},
   "outputs": [],
   "source": [
    "df = pd.concat([df,df1])"
   ]
  },
  {
   "cell_type": "code",
   "execution_count": 100,
   "metadata": {},
   "outputs": [],
   "source": [
    "df  = df.reset_index()"
   ]
  },
  {
   "cell_type": "code",
   "execution_count": 101,
   "metadata": {},
   "outputs": [
    {
     "name": "stdout",
     "output_type": "stream",
     "text": [
      "--------------------- Shape ---------------------\n",
      "(80, 6)\n",
      "--------------------- Types ---------------------\n",
      "index           int64\n",
      "Impression    float64\n",
      "Click         float64\n",
      "Purchase      float64\n",
      "Earning       float64\n",
      "type           object\n",
      "dtype: object\n",
      "--------------------- Head ---------------------\n",
      "   index   Impression      Click  Purchase    Earning     type\n",
      "0      0  82529.45927 6090.07732 665.21125 2311.27714  control\n",
      "1      1  98050.45193 3382.86179 315.08489 1742.80686  control\n",
      "2      2  82696.02355 4167.96575 458.08374 1797.82745  control\n",
      "3      3 109914.40040 4910.88224 487.09077 1696.22918  control\n",
      "4      4 108457.76263 5987.65581 441.03405 1543.72018  control\n",
      "--------------------- Tail ---------------------\n",
      "    index   Impression      Click  Purchase    Earning  type\n",
      "75     35  79234.91193 6002.21358 382.04712 2277.86398  test\n",
      "76     36 130702.23941 3626.32007 449.82459 2530.84133  test\n",
      "77     37 116481.87337 4702.78247 472.45373 2597.91763  test\n",
      "78     38  79033.83492 4495.42818 425.35910 2595.85788  test\n",
      "79     39 102257.45409 4800.06832 521.31073 2967.51839  test\n",
      "--------------------- NA ---------------------\n",
      "index         0\n",
      "Impression    0\n",
      "Click         0\n",
      "Purchase      0\n",
      "Earning       0\n",
      "type          0\n",
      "dtype: int64\n",
      "-------------------- Quantiles ---------------------\n",
      "              count         mean         std         min          0%  \\\n",
      "index      80.00000     19.50000    11.61623     0.00000     0.00000   \n",
      "Impression 80.00000 111111.93123 21623.80823 45475.94296 45475.94296   \n",
      "Click      80.00000   4534.10357  1272.37607  1836.62986  1836.62986   \n",
      "Purchase   80.00000    566.50008   148.14184   267.02894   267.02894   \n",
      "Earning    80.00000   2211.72595   421.68466  1253.98952  1253.98952   \n",
      "\n",
      "                    5%          50%          95%          99%         100%  \\\n",
      "index          1.95000     19.50000     37.05000     39.00000     39.00000   \n",
      "Impression 79485.08182 114037.03500 145205.35781 157875.35950 158605.92048   \n",
      "Click       2730.47991   4321.60283   7002.17360   7559.40541   7959.12507   \n",
      "Purchase     344.26258    532.12508    823.17264    862.89984    889.91046   \n",
      "Earning     1570.46331   2205.53626   2813.02923   3010.24953   3171.00000   \n",
      "\n",
      "                    max  \n",
      "index          39.00000  \n",
      "Impression 158605.92048  \n",
      "Click        7959.12507  \n",
      "Purchase      889.91046  \n",
      "Earning      3171.00000  \n"
     ]
    }
   ],
   "source": [
    "check_df(df)"
   ]
  },
  {
   "attachments": {},
   "cell_type": "markdown",
   "metadata": {},
   "source": [
    "# Task 2: Define AB Testing Hypothesis"
   ]
  },
  {
   "attachments": {},
   "cell_type": "markdown",
   "metadata": {},
   "source": [
    "## Step 1: Define Hypothesis\n",
    "**H0 : M1 = M2**<br> \n",
    "**H1 : M1!= M2**\n",
    "<br>\n",
    "H0 : There is no difference between maximum and average bidding<br>\n",
    "H1 : There is difference between maximum and average bidding"
   ]
  },
  {
   "attachments": {},
   "cell_type": "markdown",
   "metadata": {},
   "source": [
    "## Step 2: Observe Purchase for Control and Test"
   ]
  },
  {
   "cell_type": "code",
   "execution_count": 102,
   "metadata": {},
   "outputs": [
    {
     "data": {
      "text/html": [
       "<div>\n",
       "<style scoped>\n",
       "    .dataframe tbody tr th:only-of-type {\n",
       "        vertical-align: middle;\n",
       "    }\n",
       "\n",
       "    .dataframe tbody tr th {\n",
       "        vertical-align: top;\n",
       "    }\n",
       "\n",
       "    .dataframe thead th {\n",
       "        text-align: right;\n",
       "    }\n",
       "</style>\n",
       "<table border=\"1\" class=\"dataframe\">\n",
       "  <thead>\n",
       "    <tr style=\"text-align: right;\">\n",
       "      <th></th>\n",
       "      <th>Purchase</th>\n",
       "    </tr>\n",
       "    <tr>\n",
       "      <th>type</th>\n",
       "      <th></th>\n",
       "    </tr>\n",
       "  </thead>\n",
       "  <tbody>\n",
       "    <tr>\n",
       "      <th>control</th>\n",
       "      <td>550.89406</td>\n",
       "    </tr>\n",
       "    <tr>\n",
       "      <th>test</th>\n",
       "      <td>582.10610</td>\n",
       "    </tr>\n",
       "  </tbody>\n",
       "</table>\n",
       "</div>"
      ],
      "text/plain": [
       "         Purchase\n",
       "type             \n",
       "control 550.89406\n",
       "test    582.10610"
      ]
     },
     "execution_count": 102,
     "metadata": {},
     "output_type": "execute_result"
    }
   ],
   "source": [
    "df.groupby(\"type\").agg({\"Purchase\": \"mean\"})"
   ]
  },
  {
   "cell_type": "code",
   "execution_count": 103,
   "metadata": {},
   "outputs": [
    {
     "name": "stdout",
     "output_type": "stream",
     "text": [
      "0      0\n",
      "1      1\n",
      "2      2\n",
      "3      3\n",
      "4      4\n",
      "      ..\n",
      "75    35\n",
      "76    36\n",
      "77    37\n",
      "78    38\n",
      "79    39\n",
      "Name: index, Length: 80, dtype: int64\n",
      "0     82529.45927\n",
      "1     98050.45193\n",
      "2     82696.02355\n",
      "3    109914.40040\n",
      "4    108457.76263\n",
      "         ...     \n",
      "75    79234.91193\n",
      "76   130702.23941\n",
      "77   116481.87337\n",
      "78    79033.83492\n",
      "79   102257.45409\n",
      "Name: Impression, Length: 80, dtype: float64\n",
      "0    6090.07732\n",
      "1    3382.86179\n",
      "2    4167.96575\n",
      "3    4910.88224\n",
      "4    5987.65581\n",
      "        ...    \n",
      "75   6002.21358\n",
      "76   3626.32007\n",
      "77   4702.78247\n",
      "78   4495.42818\n",
      "79   4800.06832\n",
      "Name: Click, Length: 80, dtype: float64\n",
      "0    665.21125\n",
      "1    315.08489\n",
      "2    458.08374\n",
      "3    487.09077\n",
      "4    441.03405\n",
      "        ...   \n",
      "75   382.04712\n",
      "76   449.82459\n",
      "77   472.45373\n",
      "78   425.35910\n",
      "79   521.31073\n",
      "Name: Purchase, Length: 80, dtype: float64\n",
      "0    2311.27714\n",
      "1    1742.80686\n",
      "2    1797.82745\n",
      "3    1696.22918\n",
      "4    1543.72018\n",
      "        ...    \n",
      "75   2277.86398\n",
      "76   2530.84133\n",
      "77   2597.91763\n",
      "78   2595.85788\n",
      "79   2967.51839\n",
      "Name: Earning, Length: 80, dtype: float64\n",
      "0     control\n",
      "1     control\n",
      "2     control\n",
      "3     control\n",
      "4     control\n",
      "       ...   \n",
      "75       test\n",
      "76       test\n",
      "77       test\n",
      "78       test\n",
      "79       test\n",
      "Name: type, Length: 80, dtype: object\n"
     ]
    }
   ],
   "source": [
    "for k,i in df.items():\n",
    "    print(df[k])"
   ]
  },
  {
   "cell_type": "code",
   "execution_count": 104,
   "metadata": {},
   "outputs": [
    {
     "data": {
      "text/plain": [
       "<AxesSubplot:xlabel='type'>"
      ]
     },
     "execution_count": 104,
     "metadata": {},
     "output_type": "execute_result"
    },
    {
     "data": {
      "image/png": "[encoded data removed]",
      "text/plain": [
       "<Figure size 432x288 with 1 Axes>"
      ]
     },
     "metadata": {
      "needs_background": "light"
     },
     "output_type": "display_data"
    },
    {
     "data": {
      "image/png": "[encoded data removed]",
      "text/plain": [
       "<Figure size 432x288 with 1 Axes>"
      ]
     },
     "metadata": {
      "needs_background": "light"
     },
     "output_type": "display_data"
    }
   ],
   "source": [
    "df.plot.scatter(\"type\", \"Purchase\")\n",
    "plot_df = df.groupby(\"type\").agg({\"Purchase\": \"mean\"})\n",
    "plot_df.plot.bar()"
   ]
  },
  {
   "cell_type": "code",
   "execution_count": null,
   "metadata": {},
   "outputs": [],
   "source": []
  },
  {
   "attachments": {},
   "cell_type": "markdown",
   "metadata": {},
   "source": [
    "# Task 3: Control \"Assumption of Normality\" and \"Homogeneity of Variance\""
   ]
  },
  {
   "attachments": {},
   "cell_type": "markdown",
   "metadata": {},
   "source": [
    "**Assumption of Normality :**<br>\n",
    "H0: Normal distribution assumption is assured. <br>\n",
    "H1: Normal distribution assumption is not assured.<br>\n",
    "p < 0.05 H0 **REJECT** , p > 0.05 H0 **CAN NOT REJECT** <br>\n",
    "Look at the results and tell if assumption of normality be assured by the two groups upon the p-values that you have."
   ]
  },
  {
   "cell_type": "code",
   "execution_count": 105,
   "metadata": {},
   "outputs": [
    {
     "name": "stdout",
     "output_type": "stream",
     "text": [
      "Test Stat = 0.9773, p-value = 0.5891\n"
     ]
    }
   ],
   "source": [
    "test_stat, pvalue = shapiro(df.loc[df[\"type\"] == \"control\", \"Purchase\"])\n",
    "print('Test Stat = %.4f, p-value = %.4f' % (test_stat, pvalue))"
   ]
  },
  {
   "cell_type": "code",
   "execution_count": 106,
   "metadata": {},
   "outputs": [
    {
     "name": "stdout",
     "output_type": "stream",
     "text": [
      "Test Stat = 0.9589, p-value = 0.1541\n"
     ]
    }
   ],
   "source": [
    "test_stat, pvalue = shapiro(df.loc[df[\"type\"] == \"test\", \"Purchase\"])\n",
    "print('Test Stat = %.4f, p-value = %.4f' % (test_stat, pvalue))"
   ]
  },
  {
   "attachments": {},
   "cell_type": "markdown",
   "metadata": {},
   "source": [
    "H0 is accepted for both groups becuase p-values are greater than 0.05. So, assumption of normality is assured. Now we should look at "
   ]
  },
  {
   "attachments": {},
   "cell_type": "markdown",
   "metadata": {},
   "source": [
    "**Homogeneity of variance:**<br>\n",
    "H0: Variance is homogene.<br>\n",
    "H1: Variance is not homogene.<br>\n",
    "p < 0.05 H0 **REJECT** , p > 0.05 H0 **CAN NOT REJECT** <br>\n",
    "Kontrol ve test grubu için varyans homojenliğinin sağlanıp sağlanmadığını Purchase değişkeni üzerinden test ediniz. <br>\n",
    "Test sonucuna göre normallik varsayımı sağlanıyor mu? Elde edilen p-value değerlerini yorumlayınız. "
   ]
  },
  {
   "cell_type": "code",
   "execution_count": 107,
   "metadata": {},
   "outputs": [
    {
     "name": "stdout",
     "output_type": "stream",
     "text": [
      "Test Stat = 2.6393, p-value = 0.1083\n"
     ]
    }
   ],
   "source": [
    "test_stat, pvalue = levene(df.loc[df[\"type\"] == \"control\", \"Purchase\"],\n",
    "                           df.loc[df[\"type\"] == \"test\", \"Purchase\"])\n",
    "print('Test Stat = %.4f, p-value = %.4f' % (test_stat, pvalue))"
   ]
  },
  {
   "attachments": {},
   "cell_type": "markdown",
   "metadata": {},
   "source": [
    "**0.0649 > 0.05 then homogenity of varience can not be rejected.**"
   ]
  },
  {
   "attachments": {},
   "cell_type": "markdown",
   "metadata": {},
   "source": [
    "#### Hypothesis are not rejected for both of them. Then we can use **\"ttest_ind\"**."
   ]
  },
  {
   "cell_type": "code",
   "execution_count": 108,
   "metadata": {},
   "outputs": [
    {
     "name": "stdout",
     "output_type": "stream",
     "text": [
      "Test Stat = -0.9416, p-value = 0.3493\n"
     ]
    }
   ],
   "source": [
    "test_stat, pvalue = ttest_ind(df.loc[df[\"type\"] == \"control\", \"Purchase\"],\n",
    "                              df.loc[df[\"type\"] == \"test\", \"Purchase\"],\n",
    "                              equal_var=True)\n",
    "print('Test Stat = %.4f, p-value = %.4f' % (test_stat, pvalue))                     "
   ]
  },
  {
   "attachments": {},
   "cell_type": "markdown",
   "metadata": {},
   "source": [
    "0.2912 > 0.05 we could not reject H0. As a result there is no significant difference for both methods in regard of \"purchase\" values. "
   ]
  },
  {
   "attachments": {},
   "cell_type": "markdown",
   "metadata": {},
   "source": [
    "# Result"
   ]
  },
  {
   "attachments": {},
   "cell_type": "markdown",
   "metadata": {},
   "source": [
    "#### **Recommendation:** There is no need to change the method if you just value purchase parameter. But to look other parameters can also be benefical for company's future such as click, earning. Then we can look up if there is any difference and can say this new method is better in these areas."
   ]
  }
 ],
 "metadata": {
  "kernelspec": {
   "display_name": "tensorflow",
   "language": "python",
   "name": "python3"
  },
  "language_info": {
   "codemirror_mode": {
    "name": "ipython",
    "version": 3
   },
   "file_extension": ".py",
   "mimetype": "text/x-python",
   "name": "python",
   "nbconvert_exporter": "python",
   "pygments_lexer": "ipython3",
   "version": "3.8.11"
  },
  "orig_nbformat": 4,
  "vscode": {
   "interpreter": {
    "hash": "ea8e6793259901b7e0c6c42e6b53c844727b482934d14878cd0a546b35906013"
   }
  }
 },
 "nbformat": 4,
 "nbformat_minor": 2
}
